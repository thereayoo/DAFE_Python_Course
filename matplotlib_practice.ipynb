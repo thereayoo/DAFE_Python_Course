{
  "nbformat": 4,
  "nbformat_minor": 0,
  "metadata": {
    "kernelspec": {
      "display_name": "Python 3",
      "language": "python",
      "name": "python3"
    },
    "language_info": {
      "codemirror_mode": {
        "name": "ipython",
        "version": 3
      },
      "file_extension": ".py",
      "mimetype": "text/x-python",
      "name": "python",
      "nbconvert_exporter": "python",
      "pygments_lexer": "ipython3",
      "version": "3.7.4"
    },
    "colab": {
      "name": "matplotlib_practice.ipynb",
      "provenance": []
    }
  },
  "cells": [
    {
      "cell_type": "code",
      "metadata": {
        "id": "ATeBqixtyBGp",
        "colab_type": "code",
        "colab": {}
      },
      "source": [
        "%%capture\n",
        "%matplotlib inline"
      ],
      "execution_count": 0,
      "outputs": []
    },
    {
      "cell_type": "code",
      "metadata": {
        "id": "yUGKH_85yBGu",
        "colab_type": "code",
        "colab": {}
      },
      "source": [
        "import matplotlib\n",
        "import numpy as np\n",
        "import matplotlib.pyplot as plt\n",
        "import matplotlib.image as mpimg\n",
        "import matplotlib.cm as cm\n",
        "import matplotlib.gridspec as gridspec\n",
        "from matplotlib.ticker import NullFormatter\n",
        "from matplotlib.colors import BoundaryNorm\n",
        "from matplotlib.ticker import MaxNLocator\n",
        "from matplotlib.ticker import LinearLocator\n",
        "import matplotlib.animation as animation\n",
        "from mpl_toolkits.mplot3d import Axes3D\n",
        "from mpl_toolkits.mplot3d import axes3d"
      ],
      "execution_count": 0,
      "outputs": []
    },
    {
      "cell_type": "code",
      "metadata": {
        "id": "j1Axgz3MyBGx",
        "colab_type": "code",
        "outputId": "1e57fde9-4f93-45cb-d21f-bba6da43e6a8",
        "colab": {
          "base_uri": "https://localhost:8080/",
          "height": 54
        }
      },
      "source": [
        "fig = plt.figure()\n",
        "fig.suptitle('Figure without axes')"
      ],
      "execution_count": 0,
      "outputs": [
        {
          "output_type": "execute_result",
          "data": {
            "text/plain": [
              "Text(0.5, 0.98, 'Figure without axes')"
            ]
          },
          "metadata": {
            "tags": []
          },
          "execution_count": 3
        },
        {
          "output_type": "display_data",
          "data": {
            "text/plain": [
              "<Figure size 432x288 with 0 Axes>"
            ]
          },
          "metadata": {
            "tags": []
          }
        }
      ]
    },
    {
      "cell_type": "code",
      "metadata": {
        "id": "5An8_z7eyBG2",
        "colab_type": "code",
        "outputId": "468096c0-3989-4e64-e383-6a66399f8f6b",
        "colab": {
          "base_uri": "https://localhost:8080/",
          "height": 269
        }
      },
      "source": [
        "fig, ax_lst = plt.subplots(2, 2)"
      ],
      "execution_count": 0,
      "outputs": [
        {
          "output_type": "display_data",
          "data": {
            "image/png": "[encoded data removed]",
            "text/plain": [
              "<Figure size 432x288 with 4 Axes>"
            ]
          },
          "metadata": {
            "tags": [],
            "needs_background": "light"
          }
        }
      ]
    },
    {
      "cell_type": "code",
      "metadata": {
        "id": "W7EpBxlXyBG5",
        "colab_type": "code",
        "outputId": "0770e1c1-be65-439e-8b75-4f7501dbef7e",
        "colab": {
          "base_uri": "https://localhost:8080/",
          "height": 108
        }
      },
      "source": [
        "ax_lst"
      ],
      "execution_count": 0,
      "outputs": [
        {
          "output_type": "execute_result",
          "data": {
            "text/plain": [
              "array([[<matplotlib.axes._subplots.AxesSubplot object at 0x7f07356772e8>,\n",
              "        <matplotlib.axes._subplots.AxesSubplot object at 0x7f0735645588>],\n",
              "       [<matplotlib.axes._subplots.AxesSubplot object at 0x7f07355fa7b8>,\n",
              "        <matplotlib.axes._subplots.AxesSubplot object at 0x7f07355ac9e8>]],\n",
              "      dtype=object)"
            ]
          },
          "metadata": {
            "tags": []
          },
          "execution_count": 5
        }
      ]
    },
    {
      "cell_type": "markdown",
      "metadata": {
        "id": "kol-0NAGyBG8",
        "colab_type": "text"
      },
      "source": [
        "### Пример построения простейшего графика"
      ]
    },
    {
      "cell_type": "code",
      "metadata": {
        "id": "lXt2DbkwyBG8",
        "colab_type": "code",
        "outputId": "e51e2641-7819-4cc4-8368-5a7dc7e08a93",
        "colab": {
          "base_uri": "https://localhost:8080/",
          "height": 295
        }
      },
      "source": [
        "x = np.linspace(0, 2, 100) # разбиваем отрезок [0, 2] на 100 одинаковых частей\n",
        "\n",
        "plt.plot(x, x, label='linear') # строим график функции y(x) = x\n",
        "plt.plot(x, x**2, label='quadratic') # строим график функции y(x) = x^2\n",
        "plt.plot(x, x**3, label='cubic') # строим график функции y(x) = x^3\n",
        "\n",
        "plt.xlabel('x label') # добавляем подпись к оси OX\n",
        "plt.ylabel('y label') # добавляем подпись к оси OY\n",
        "\n",
        "plt.title('Simple plot') # добавляем название графика\n",
        "\n",
        "plt.legend() # добавляем легенду на график\n",
        "\n",
        "plt.show() # отрисовываем графики"
      ],
      "execution_count": 0,
      "outputs": [
        {
          "output_type": "display_data",
          "data": {
            "image/png": "[encoded data removed]",
            "text/plain": [
              "<Figure size 432x288 with 1 Axes>"
            ]
          },
          "metadata": {
            "tags": [],
            "needs_background": "light"
          }
        }
      ]
    },
    {
      "cell_type": "markdown",
      "metadata": {
        "id": "iDFxc1tMyBG_",
        "colab_type": "text"
      },
      "source": [
        "### Пример построения графика функции y(x) = sin(x)"
      ]
    },
    {
      "cell_type": "code",
      "metadata": {
        "id": "KyAB44anyBHC",
        "colab_type": "code",
        "outputId": "a7c448b3-745d-4f2f-d731-7a5d6fbfca3c",
        "colab": {
          "base_uri": "https://localhost:8080/",
          "height": 265
        }
      },
      "source": [
        "x = np.arange(0, 10, 0.2)\n",
        "y = np.sin(x)\n",
        "fig, ax = plt.subplots()\n",
        "ax.plot(x, y, marker='*') # параметр marker определяет форму маркера на графике\n",
        "ax.annotate('local max', xy=(2, 1), xytext=(3, 1),\n",
        "            arrowprops=dict(facecolor='black', shrink=0.005)) # аннотация к точке с координатами (2, 1) на графике\n",
        "plt.show()"
      ],
      "execution_count": 0,
      "outputs": [
        {
          "output_type": "display_data",
          "data": {
            "image/png": "[encoded data removed]",
            "text/plain": [
              "<Figure size 432x288 with 1 Axes>"
            ]
          },
          "metadata": {
            "tags": [],
            "needs_background": "light"
          }
        }
      ]
    },
    {
      "cell_type": "markdown",
      "metadata": {
        "id": "WpZ8nNuoyBHF",
        "colab_type": "text"
      },
      "source": [
        "### Стили графиков"
      ]
    },
    {
      "cell_type": "code",
      "metadata": {
        "id": "hYkgFbuMyBHG",
        "colab_type": "code",
        "outputId": "7e8a19c6-1345-4d7b-e107-e1da2848fe3a",
        "colab": {
          "base_uri": "https://localhost:8080/",
          "height": 265
        }
      },
      "source": [
        "t= np.arange(0., 5., 0.2)\n",
        "plt.plot(t, t, 'r--', \n",
        "         t, t**2, 'bs', \n",
        "         t, t**3, 'g^') # --, s, ^ и др. - стили отображения графиков, буквы r, b, g и др. - цвета\n",
        "plt.axis([0, 5, 0, 110]) # области построения графика по каждой оси [xmin, xmax, ymin, ymax]\n",
        "plt.show()"
      ],
      "execution_count": 0,
      "outputs": [
        {
          "output_type": "display_data",
          "data": {
            "image/png": "[encoded data removed]",
            "text/plain": [
              "<Figure size 432x288 with 1 Axes>"
            ]
          },
          "metadata": {
            "tags": [],
            "needs_background": "light"
          }
        }
      ]
    },
    {
      "cell_type": "markdown",
      "metadata": {
        "id": "DRmWIyTbyBHJ",
        "colab_type": "text"
      },
      "source": [
        "### Примитивы"
      ]
    },
    {
      "cell_type": "code",
      "metadata": {
        "id": "dcrjoTsQyBHK",
        "colab_type": "code",
        "outputId": "f37c5e1f-89d3-4f61-9411-353cc7ef07aa",
        "colab": {
          "base_uri": "https://localhost:8080/",
          "height": 265
        }
      },
      "source": [
        "fig, ax = plt.subplots()\n",
        "circle = matplotlib.patches.Circle((0, 0), radius=1, fill=True)  # рисуем круг с центром в точке (0, 0) единичного радиуса\n",
        "# Помимо Circle существуют Path, Rectangle, Polygon, Arc, Arrow, Line2D и др.\n",
        "ax.add_patch(circle)\n",
        "plt.axis([-2, 2, -1.2, 1.2])\n",
        "plt.show()"
      ],
      "execution_count": 0,
      "outputs": [
        {
          "output_type": "display_data",
          "data": {
            "image/png": "[encoded data removed]",
            "text/plain": [
              "<Figure size 432x288 with 1 Axes>"
            ]
          },
          "metadata": {
            "tags": [],
            "needs_background": "light"
          }
        }
      ]
    },
    {
      "cell_type": "markdown",
      "metadata": {
        "id": "-qUSB0JWyBHM",
        "colab_type": "text"
      },
      "source": [
        "#### Задание: нарисовать квадрат с вершинами в точках (1, 1), (1, -1), (-1, -1), (-1, 1) "
      ]
    },
    {
      "cell_type": "code",
      "metadata": {
        "id": "uti_y0bFyBHN",
        "colab_type": "code",
        "outputId": "efd48c7f-8ead-4ee0-f1b9-653945c106d5",
        "colab": {
          "base_uri": "https://localhost:8080/",
          "height": 265
        }
      },
      "source": [
        "fig, ax = plt.subplots()\n",
        "circle = matplotlib.patches.Rectangle(xy=(-1, -1), width=2, height=2, fill=True)  # рисуем круг с центром в точке (0, 0) единичного радиуса\n",
        "# Помимо Circle существуют Path, Rectangle, Polygon, Arc, Arrow, Line2D и др.\n",
        "ax.add_patch(circle)\n",
        "plt.axis([-2, 2, -1.2, 1.2])\n",
        "plt.show()"
      ],
      "execution_count": 0,
      "outputs": [
        {
          "output_type": "display_data",
          "data": {
            "image/png": "[encoded data removed]",
            "text/plain": [
              "<Figure size 432x288 with 1 Axes>"
            ]
          },
          "metadata": {
            "tags": [],
            "needs_background": "light"
          }
        }
      ]
    },
    {
      "cell_type": "markdown",
      "metadata": {
        "id": "esM1LsbKyBHQ",
        "colab_type": "text"
      },
      "source": [
        "### Рисунки"
      ]
    },
    {
      "cell_type": "code",
      "metadata": {
        "id": "hVktxZ9PyBHR",
        "colab_type": "code",
        "outputId": "afab331d-9f4a-4635-c104-36b294593939",
        "colab": {
          "base_uri": "https://localhost:8080/",
          "height": 340
        }
      },
      "source": [
        "img = mpimg.imread('images/stinkbug.png')\n",
        "plt.imshow(img)"
      ],
      "execution_count": 0,
      "outputs": [
        {
          "output_type": "error",
          "ename": "FileNotFoundError",
          "evalue": "ignored",
          "traceback": [
            "\u001b[0;31m---------------------------------------------------------------------------\u001b[0m",
            "\u001b[0;31mFileNotFoundError\u001b[0m                         Traceback (most recent call last)",
            "\u001b[0;32m<ipython-input-10-0dcc56f2d2e7>\u001b[0m in \u001b[0;36m<module>\u001b[0;34m()\u001b[0m\n\u001b[0;32m----> 1\u001b[0;31m \u001b[0mimg\u001b[0m \u001b[0;34m=\u001b[0m \u001b[0mmpimg\u001b[0m\u001b[0;34m.\u001b[0m\u001b[0mimread\u001b[0m\u001b[0;34m(\u001b[0m\u001b[0;34m'images/stinkbug.png'\u001b[0m\u001b[0;34m)\u001b[0m\u001b[0;34m\u001b[0m\u001b[0;34m\u001b[0m\u001b[0m\n\u001b[0m\u001b[1;32m      2\u001b[0m \u001b[0mplt\u001b[0m\u001b[0;34m.\u001b[0m\u001b[0mimshow\u001b[0m\u001b[0;34m(\u001b[0m\u001b[0mimg\u001b[0m\u001b[0;34m)\u001b[0m\u001b[0;34m\u001b[0m\u001b[0;34m\u001b[0m\u001b[0m\n",
            "\u001b[0;32m/usr/local/lib/python3.6/dist-packages/matplotlib/image.py\u001b[0m in \u001b[0;36mimread\u001b[0;34m(fname, format)\u001b[0m\n\u001b[1;32m   1472\u001b[0m             \u001b[0mfd\u001b[0m \u001b[0;34m=\u001b[0m \u001b[0mBytesIO\u001b[0m\u001b[0;34m(\u001b[0m\u001b[0mrequest\u001b[0m\u001b[0;34m.\u001b[0m\u001b[0murlopen\u001b[0m\u001b[0;34m(\u001b[0m\u001b[0mfname\u001b[0m\u001b[0;34m)\u001b[0m\u001b[0;34m.\u001b[0m\u001b[0mread\u001b[0m\u001b[0;34m(\u001b[0m\u001b[0;34m)\u001b[0m\u001b[0;34m)\u001b[0m\u001b[0;34m\u001b[0m\u001b[0;34m\u001b[0m\u001b[0m\n\u001b[1;32m   1473\u001b[0m             \u001b[0;32mreturn\u001b[0m \u001b[0m_png\u001b[0m\u001b[0;34m.\u001b[0m\u001b[0mread_png\u001b[0m\u001b[0;34m(\u001b[0m\u001b[0mfd\u001b[0m\u001b[0;34m)\u001b[0m\u001b[0;34m\u001b[0m\u001b[0;34m\u001b[0m\u001b[0m\n\u001b[0;32m-> 1474\u001b[0;31m     \u001b[0;32mwith\u001b[0m \u001b[0mcbook\u001b[0m\u001b[0;34m.\u001b[0m\u001b[0mopen_file_cm\u001b[0m\u001b[0;34m(\u001b[0m\u001b[0mfname\u001b[0m\u001b[0;34m,\u001b[0m \u001b[0;34m\"rb\"\u001b[0m\u001b[0;34m)\u001b[0m \u001b[0;32mas\u001b[0m \u001b[0mfile\u001b[0m\u001b[0;34m:\u001b[0m\u001b[0;34m\u001b[0m\u001b[0;34m\u001b[0m\u001b[0m\n\u001b[0m\u001b[1;32m   1475\u001b[0m         \u001b[0;32mreturn\u001b[0m \u001b[0m_png\u001b[0m\u001b[0;34m.\u001b[0m\u001b[0mread_png\u001b[0m\u001b[0;34m(\u001b[0m\u001b[0mfile\u001b[0m\u001b[0;34m)\u001b[0m\u001b[0;34m\u001b[0m\u001b[0;34m\u001b[0m\u001b[0m\n\u001b[1;32m   1476\u001b[0m \u001b[0;34m\u001b[0m\u001b[0m\n",
            "\u001b[0;32m/usr/lib/python3.6/contextlib.py\u001b[0m in \u001b[0;36m__enter__\u001b[0;34m(self)\u001b[0m\n\u001b[1;32m     79\u001b[0m     \u001b[0;32mdef\u001b[0m \u001b[0m__enter__\u001b[0m\u001b[0;34m(\u001b[0m\u001b[0mself\u001b[0m\u001b[0;34m)\u001b[0m\u001b[0;34m:\u001b[0m\u001b[0;34m\u001b[0m\u001b[0;34m\u001b[0m\u001b[0m\n\u001b[1;32m     80\u001b[0m         \u001b[0;32mtry\u001b[0m\u001b[0;34m:\u001b[0m\u001b[0;34m\u001b[0m\u001b[0;34m\u001b[0m\u001b[0m\n\u001b[0;32m---> 81\u001b[0;31m             \u001b[0;32mreturn\u001b[0m \u001b[0mnext\u001b[0m\u001b[0;34m(\u001b[0m\u001b[0mself\u001b[0m\u001b[0;34m.\u001b[0m\u001b[0mgen\u001b[0m\u001b[0;34m)\u001b[0m\u001b[0;34m\u001b[0m\u001b[0;34m\u001b[0m\u001b[0m\n\u001b[0m\u001b[1;32m     82\u001b[0m         \u001b[0;32mexcept\u001b[0m \u001b[0mStopIteration\u001b[0m\u001b[0;34m:\u001b[0m\u001b[0;34m\u001b[0m\u001b[0;34m\u001b[0m\u001b[0m\n\u001b[1;32m     83\u001b[0m             \u001b[0;32mraise\u001b[0m \u001b[0mRuntimeError\u001b[0m\u001b[0;34m(\u001b[0m\u001b[0;34m\"generator didn't yield\"\u001b[0m\u001b[0;34m)\u001b[0m \u001b[0;32mfrom\u001b[0m \u001b[0;32mNone\u001b[0m\u001b[0;34m\u001b[0m\u001b[0;34m\u001b[0m\u001b[0m\n",
            "\u001b[0;32m/usr/local/lib/python3.6/dist-packages/matplotlib/cbook/__init__.py\u001b[0m in \u001b[0;36mopen_file_cm\u001b[0;34m(path_or_file, mode, encoding)\u001b[0m\n\u001b[1;32m    416\u001b[0m \u001b[0;32mdef\u001b[0m \u001b[0mopen_file_cm\u001b[0m\u001b[0;34m(\u001b[0m\u001b[0mpath_or_file\u001b[0m\u001b[0;34m,\u001b[0m \u001b[0mmode\u001b[0m\u001b[0;34m=\u001b[0m\u001b[0;34m\"r\"\u001b[0m\u001b[0;34m,\u001b[0m \u001b[0mencoding\u001b[0m\u001b[0;34m=\u001b[0m\u001b[0;32mNone\u001b[0m\u001b[0;34m)\u001b[0m\u001b[0;34m:\u001b[0m\u001b[0;34m\u001b[0m\u001b[0;34m\u001b[0m\u001b[0m\n\u001b[1;32m    417\u001b[0m     \u001b[0;34mr\"\"\"Pass through file objects and context-manage `.PathLike`\\s.\"\"\"\u001b[0m\u001b[0;34m\u001b[0m\u001b[0;34m\u001b[0m\u001b[0m\n\u001b[0;32m--> 418\u001b[0;31m     \u001b[0mfh\u001b[0m\u001b[0;34m,\u001b[0m \u001b[0mopened\u001b[0m \u001b[0;34m=\u001b[0m \u001b[0mto_filehandle\u001b[0m\u001b[0;34m(\u001b[0m\u001b[0mpath_or_file\u001b[0m\u001b[0;34m,\u001b[0m \u001b[0mmode\u001b[0m\u001b[0;34m,\u001b[0m \u001b[0;32mTrue\u001b[0m\u001b[0;34m,\u001b[0m \u001b[0mencoding\u001b[0m\u001b[0;34m)\u001b[0m\u001b[0;34m\u001b[0m\u001b[0;34m\u001b[0m\u001b[0m\n\u001b[0m\u001b[1;32m    419\u001b[0m     \u001b[0;32mif\u001b[0m \u001b[0mopened\u001b[0m\u001b[0;34m:\u001b[0m\u001b[0;34m\u001b[0m\u001b[0;34m\u001b[0m\u001b[0m\n\u001b[1;32m    420\u001b[0m         \u001b[0;32mwith\u001b[0m \u001b[0mfh\u001b[0m\u001b[0;34m:\u001b[0m\u001b[0;34m\u001b[0m\u001b[0;34m\u001b[0m\u001b[0m\n",
            "\u001b[0;32m/usr/local/lib/python3.6/dist-packages/matplotlib/cbook/__init__.py\u001b[0m in \u001b[0;36mto_filehandle\u001b[0;34m(fname, flag, return_opened, encoding)\u001b[0m\n\u001b[1;32m    401\u001b[0m             \u001b[0mfh\u001b[0m \u001b[0;34m=\u001b[0m \u001b[0mbz2\u001b[0m\u001b[0;34m.\u001b[0m\u001b[0mBZ2File\u001b[0m\u001b[0;34m(\u001b[0m\u001b[0mfname\u001b[0m\u001b[0;34m,\u001b[0m \u001b[0mflag\u001b[0m\u001b[0;34m)\u001b[0m\u001b[0;34m\u001b[0m\u001b[0;34m\u001b[0m\u001b[0m\n\u001b[1;32m    402\u001b[0m         \u001b[0;32melse\u001b[0m\u001b[0;34m:\u001b[0m\u001b[0;34m\u001b[0m\u001b[0;34m\u001b[0m\u001b[0m\n\u001b[0;32m--> 403\u001b[0;31m             \u001b[0mfh\u001b[0m \u001b[0;34m=\u001b[0m \u001b[0mopen\u001b[0m\u001b[0;34m(\u001b[0m\u001b[0mfname\u001b[0m\u001b[0;34m,\u001b[0m \u001b[0mflag\u001b[0m\u001b[0;34m,\u001b[0m \u001b[0mencoding\u001b[0m\u001b[0;34m=\u001b[0m\u001b[0mencoding\u001b[0m\u001b[0;34m)\u001b[0m\u001b[0;34m\u001b[0m\u001b[0;34m\u001b[0m\u001b[0m\n\u001b[0m\u001b[1;32m    404\u001b[0m         \u001b[0mopened\u001b[0m \u001b[0;34m=\u001b[0m \u001b[0;32mTrue\u001b[0m\u001b[0;34m\u001b[0m\u001b[0;34m\u001b[0m\u001b[0m\n\u001b[1;32m    405\u001b[0m     \u001b[0;32melif\u001b[0m \u001b[0mhasattr\u001b[0m\u001b[0;34m(\u001b[0m\u001b[0mfname\u001b[0m\u001b[0;34m,\u001b[0m \u001b[0;34m'seek'\u001b[0m\u001b[0;34m)\u001b[0m\u001b[0;34m:\u001b[0m\u001b[0;34m\u001b[0m\u001b[0;34m\u001b[0m\u001b[0m\n",
            "\u001b[0;31mFileNotFoundError\u001b[0m: [Errno 2] No such file or directory: 'images/stinkbug.png'"
          ]
        }
      ]
    },
    {
      "cell_type": "code",
      "metadata": {
        "id": "8S8URDT3yBHU",
        "colab_type": "code",
        "colab": {}
      },
      "source": [
        "lum_img = img[:, :, 0]\n",
        "plt.imshow(lum_img)"
      ],
      "execution_count": 0,
      "outputs": []
    },
    {
      "cell_type": "code",
      "metadata": {
        "id": "_831Qk3YyBHX",
        "colab_type": "code",
        "colab": {}
      },
      "source": [
        "plt.imshow(lum_img, cmap='hot')"
      ],
      "execution_count": 0,
      "outputs": []
    },
    {
      "cell_type": "code",
      "metadata": {
        "id": "6SpCMbzqyBHa",
        "colab_type": "code",
        "colab": {}
      },
      "source": [
        "plt.imshow(lum_img)\n",
        "plt.colorbar()"
      ],
      "execution_count": 0,
      "outputs": []
    },
    {
      "cell_type": "code",
      "metadata": {
        "id": "DT6IBBS7yBHc",
        "colab_type": "code",
        "colab": {}
      },
      "source": [
        "imgplot = plt.imshow(lum_img)\n",
        "imgplot.set_cmap('nipy_spectral')  # изменение colormap\n",
        "plt.colorbar()"
      ],
      "execution_count": 0,
      "outputs": []
    },
    {
      "cell_type": "markdown",
      "metadata": {
        "id": "J1Oi-0cuyBHg",
        "colab_type": "text"
      },
      "source": [
        "### Scatter plot"
      ]
    },
    {
      "cell_type": "code",
      "metadata": {
        "id": "2n4EJPnIyBHg",
        "colab_type": "code",
        "outputId": "dbdfb644-149e-4e48-ad7b-0bd61487c657",
        "colab": {
          "base_uri": "https://localhost:8080/",
          "height": 279
        }
      },
      "source": [
        "x = np.linspace(0, 4, 100) \n",
        "plt.scatter(x, x) # точечный график\n",
        "plt.xlabel('x')\n",
        "plt.ylabel('y')\n",
        "plt.show()"
      ],
      "execution_count": 0,
      "outputs": [
        {
          "output_type": "display_data",
          "data": {
            "image/png": "[encoded data removed]",
            "text/plain": [
              "<Figure size 432x288 with 1 Axes>"
            ]
          },
          "metadata": {
            "tags": [],
            "needs_background": "light"
          }
        }
      ]
    },
    {
      "cell_type": "markdown",
      "metadata": {
        "id": "MAlja1ruyBHj",
        "colab_type": "text"
      },
      "source": [
        "#### Задание: построить точечный график y = sin(x)"
      ]
    },
    {
      "cell_type": "code",
      "metadata": {
        "id": "5Fn92_pTyBHj",
        "colab_type": "code",
        "outputId": "2fc00726-2d06-4ebc-86a9-ea90e830a5ed",
        "colab": {
          "base_uri": "https://localhost:8080/",
          "height": 279
        }
      },
      "source": [
        "x = np.linspace(-8, 8, 100)\n",
        "plt.scatter(x, np.sin(x)) # точечный график\n",
        "plt.xlabel('x')\n",
        "plt.ylabel('y')\n",
        "plt.show()"
      ],
      "execution_count": 0,
      "outputs": [
        {
          "output_type": "display_data",
          "data": {
            "image/png": "[encoded data removed]",
            "text/plain": [
              "<Figure size 432x288 with 1 Axes>"
            ]
          },
          "metadata": {
            "tags": [],
            "needs_background": "light"
          }
        }
      ]
    },
    {
      "cell_type": "markdown",
      "metadata": {
        "id": "DyFsiauYyBHl",
        "colab_type": "text"
      },
      "source": [
        "### Categorical variables"
      ]
    },
    {
      "cell_type": "code",
      "metadata": {
        "id": "DpLnfHpTyBHm",
        "colab_type": "code",
        "outputId": "ecf284a5-1e51-4d34-aef0-ef75f208f54a",
        "colab": {
          "base_uri": "https://localhost:8080/",
          "height": 233
        }
      },
      "source": [
        "names = ['group_a', 'group_b', 'group_c']\n",
        "values = [1, 10, 100]\n",
        "\n",
        "plt.figure(figsize=(9, 3))\n",
        "plt.subplot(131)\n",
        "plt.bar(names, values) # столбчатая диаграмма\n",
        "plt.subplot(132)\n",
        "plt.scatter(names, values)\n",
        "plt.subplot(133)\n",
        "plt.plot(names, values)\n",
        "\n",
        "plt.suptitle('Categorical plotting')\n",
        "plt.show()"
      ],
      "execution_count": 0,
      "outputs": [
        {
          "output_type": "display_data",
          "data": {
            "image/png": "[encoded data removed]",
            "text/plain": [
              "<Figure size 648x216 with 3 Axes>"
            ]
          },
          "metadata": {
            "tags": [],
            "needs_background": "light"
          }
        }
      ]
    },
    {
      "cell_type": "markdown",
      "metadata": {
        "id": "Z6o7TKLOyBHp",
        "colab_type": "text"
      },
      "source": [
        "### Гистограммы"
      ]
    },
    {
      "cell_type": "code",
      "metadata": {
        "id": "OtjkD3OSyBHp",
        "colab_type": "code",
        "outputId": "47055b75-4838-4047-fded-634e22caab29",
        "colab": {
          "base_uri": "https://localhost:8080/",
          "height": 295
        }
      },
      "source": [
        "mu, sigma = 100, 15\n",
        "x = mu + sigma * np.random.randn(10000)\n",
        "\n",
        "n, bins, patches = plt.hist(x, 50, density=1, facecolor='g', alpha=0.75)\n",
        "\n",
        "y = ((1 / (np.sqrt(2 * np.pi) * sigma)) *\n",
        "     np.exp(-0.5 * (1 / sigma * (bins - mu))**2))\n",
        "plt.plot(bins, y, '--')  # best-fit\n",
        "\n",
        "plt.xlabel('Smarts')\n",
        "plt.ylabel('Probability')\n",
        "plt.title('Histogram of IQ')\n",
        "plt.text(60, .025, r'$\\mu=100,\\ \\sigma=15$')\n",
        "plt.xlim(40, 160)\n",
        "plt.ylim(0, 0.03)\n",
        "plt.grid(True)\n",
        "plt.show()"
      ],
      "execution_count": 0,
      "outputs": [
        {
          "output_type": "display_data",
          "data": {
            "image/png": "[encoded data removed]",
            "text/plain": [
              "<Figure size 432x288 with 1 Axes>"
            ]
          },
          "metadata": {
            "tags": [],
            "needs_background": "light"
          }
        }
      ]
    },
    {
      "cell_type": "markdown",
      "metadata": {
        "id": "NCCT2VtdyBHu",
        "colab_type": "text"
      },
      "source": [
        "#### Задание: построить гистограмму распределения Пуассона $$p(x) = \\frac{e^{-\\lambda}\\lambda^x}{x!}$$, при $$\\lambda = 1.5; x = 0, 1, ..., 10000$$, с использованием numpy.random"
      ]
    },
    {
      "cell_type": "code",
      "metadata": {
        "id": "QeP_wNUDyBHu",
        "colab_type": "code",
        "outputId": "ebb3b2b2-0eef-4b12-a213-f019b6897d92",
        "colab": {
          "base_uri": "https://localhost:8080/",
          "height": 283
        }
      },
      "source": [
        "import numpy.random\n",
        "\n",
        "\n",
        "x = numpy.random.poisson(1.5, 10000)\n",
        "\n",
        "n, bins, patches = plt.hist(x, 10, density=True)\n",
        "\n",
        "plt.xlim(0, 10)\n"
      ],
      "execution_count": 0,
      "outputs": [
        {
          "output_type": "execute_result",
          "data": {
            "text/plain": [
              "(0.0, 10.0)"
            ]
          },
          "metadata": {
            "tags": []
          },
          "execution_count": 42
        },
        {
          "output_type": "display_data",
          "data": {
            "image/png": "[encoded data removed]",
            "text/plain": [
              "<Figure size 432x288 with 1 Axes>"
            ]
          },
          "metadata": {
            "tags": [],
            "needs_background": "light"
          }
        }
      ]
    },
    {
      "cell_type": "markdown",
      "metadata": {
        "id": "AM6daMTIyBHw",
        "colab_type": "text"
      },
      "source": [
        "### Оси"
      ]
    },
    {
      "cell_type": "code",
      "metadata": {
        "id": "5j8HiPmzyBHx",
        "colab_type": "code",
        "colab": {}
      },
      "source": [
        "np.random.seed(19680801)\n",
        "\n",
        "y = np.random.normal(loc=0.5, scale=0.4, size=1000)\n",
        "y = y[(y > 0) & (y < 1)]\n",
        "y.sort()\n",
        "x = np.arange(len(y))\n",
        "\n",
        "# plot with various axes scales\n",
        "plt.figure()\n",
        "\n",
        "# linear\n",
        "plt.subplot(221)\n",
        "plt.plot(x, y)\n",
        "plt.yscale('linear')\n",
        "plt.title('linear')\n",
        "plt.grid(True)\n",
        "\n",
        "\n",
        "# log\n",
        "plt.subplot(222)\n",
        "plt.plot(x, y)\n",
        "plt.yscale('log')\n",
        "plt.title('log')\n",
        "plt.grid(True)\n",
        "\n",
        "\n",
        "# symmetric log\n",
        "plt.subplot(223)\n",
        "plt.plot(x, y - y.mean())\n",
        "plt.yscale('symlog', linthreshy=0.01)\n",
        "plt.title('symlog')\n",
        "plt.grid(True)\n",
        "\n",
        "# logit\n",
        "plt.subplot(224)\n",
        "plt.plot(x, y)\n",
        "plt.yscale('logit')\n",
        "plt.title('logit')\n",
        "plt.grid(True)\n",
        "# Format the minor tick labels of the y-axis into empty strings with\n",
        "# `NullFormatter`, to avoid cumbering the axis with too many labels.\n",
        "plt.gca().yaxis.set_minor_formatter(NullFormatter())\n",
        "# Adjust the subplot layout, because the logit one may take more space\n",
        "# than usual, due to y-tick labels like \"1 - 10^{-3}\"\n",
        "plt.subplots_adjust(top=0.92, bottom=0.08, left=0.10, right=0.95, hspace=0.25,\n",
        "                    wspace=0.35)\n",
        "\n",
        "plt.show()"
      ],
      "execution_count": 0,
      "outputs": []
    },
    {
      "cell_type": "markdown",
      "metadata": {
        "id": "roLKO5IfyBHz",
        "colab_type": "text"
      },
      "source": [
        "### pcolormesh and contour"
      ]
    },
    {
      "cell_type": "code",
      "metadata": {
        "id": "B8eE3XzyyBH0",
        "colab_type": "code",
        "colab": {}
      },
      "source": [
        "# make these smaller to increase the resolution\n",
        "dx, dy = 0.05, 0.05\n",
        "\n",
        "# generate 2 2d grids for the x & y bounds\n",
        "y, x = np.mgrid[slice(1, 5 + dy, dy),\n",
        "                slice(1, 5 + dx, dx)]\n",
        "\n",
        "z = np.sin(x)**10 + np.cos(10 + y*x) * np.cos(x)\n",
        "\n",
        "# x and y are bounds, so z should be the value *inside* those bounds.\n",
        "# Therefore, remove the last value from the z array.\n",
        "z = z[:-1, :-1]\n",
        "levels = MaxNLocator(nbins=15).tick_values(z.min(), z.max())\n",
        "\n",
        "\n",
        "# pick the desired colormap, sensible levels, and define a normalization\n",
        "# instance which takes data values and translates those into levels.\n",
        "cmap = plt.get_cmap('PiYG')\n",
        "norm = BoundaryNorm(levels, ncolors=cmap.N, clip=True)\n",
        "\n",
        "fig, (ax0, ax1) = plt.subplots(nrows=2)\n",
        "\n",
        "im = ax0.pcolormesh(x, y, z, cmap=cmap, norm=norm)\n",
        "fig.colorbar(im, ax=ax0)\n",
        "ax0.set_title('pcolormesh with levels')\n",
        "\n",
        "\n",
        "# contours are *point* based plots, so convert our bound into point\n",
        "# centers\n",
        "cf = ax1.contourf(x[:-1, :-1] + dx/2.,\n",
        "                  y[:-1, :-1] + dy/2., z, levels=levels,\n",
        "                  cmap=cmap)\n",
        "fig.colorbar(cf, ax=ax1)\n",
        "ax1.set_title('contourf with levels')\n",
        "\n",
        "# adjust spacing between subplots so `ax1` title and `ax0` tick labels\n",
        "# don't overlap\n",
        "fig.tight_layout()\n",
        "\n",
        "plt.show()"
      ],
      "execution_count": 0,
      "outputs": []
    },
    {
      "cell_type": "markdown",
      "metadata": {
        "id": "xwX5kds7yBH2",
        "colab_type": "text"
      },
      "source": [
        "### Контурный график. Contour."
      ]
    },
    {
      "cell_type": "code",
      "metadata": {
        "id": "SZAfK1sDyBH4",
        "colab_type": "code",
        "colab": {}
      },
      "source": [
        "delta = 0.025\n",
        "x = np.arange(-3.0, 3.0, delta)\n",
        "y = np.arange(-2.0, 2.0, delta)\n",
        "X, Y = np.meshgrid(x, y)\n",
        "Z1 = np.exp(-X**2 - Y**2)\n",
        "Z2 = np.exp(-(X - 1)**2 - (Y - 1)**2)\n",
        "Z = (Z1 - Z2) * 2\n",
        "\n",
        "fig, ax = plt.subplots()\n",
        "CS = ax.contour(X, Y, Z)\n",
        "ax.clabel(CS, inline=1, fontsize=10)\n",
        "ax.set_title('Simplest default with labels')"
      ],
      "execution_count": 0,
      "outputs": []
    },
    {
      "cell_type": "code",
      "metadata": {
        "id": "_bzkUBKUyBH7",
        "colab_type": "code",
        "colab": {}
      },
      "source": [
        "fig, ax = plt.subplots()\n",
        "im = ax.imshow(Z, interpolation='bilinear', origin='lower',\n",
        "                cmap=cm.gray, extent=(-3, 3, -2, 2))\n",
        "levels = np.arange(-1.2, 1.6, 0.2)\n",
        "CS = ax.contour(Z, levels, origin='lower', cmap='flag',\n",
        "                linewidths=2, extent=(-3, 3, -2, 2))\n",
        "\n",
        "# Thicken the zero contour.\n",
        "zc = CS.collections[6]\n",
        "plt.setp(zc, linewidth=4)\n",
        "\n",
        "ax.clabel(CS, levels[1::2],  # label every second level\n",
        "          inline=1, fmt='%1.1f', fontsize=14)\n",
        "\n",
        "# make a colorbar for the contour lines\n",
        "CB = fig.colorbar(CS, shrink=0.8, extend='both')\n",
        "\n",
        "ax.set_title('Lines with colorbar')\n",
        "\n",
        "# We can still add a colorbar for the image, too.\n",
        "CBI = fig.colorbar(im, orientation='horizontal', shrink=0.8)\n",
        "\n",
        "# This makes the original colorbar look a bit out of place,\n",
        "# so let's improve its position.\n",
        "\n",
        "l, b, w, h = ax.get_position().bounds\n",
        "ll, bb, ww, hh = CB.ax.get_position().bounds\n",
        "CB.ax.set_position([ll, b + 0.1*h, ww, h*0.8])\n",
        "\n",
        "plt.show()"
      ],
      "execution_count": 0,
      "outputs": []
    },
    {
      "cell_type": "markdown",
      "metadata": {
        "id": "uV5BlkfayBH9",
        "colab_type": "text"
      },
      "source": [
        "### Matshow"
      ]
    },
    {
      "cell_type": "code",
      "metadata": {
        "id": "QILk0XFayBH9",
        "colab_type": "code",
        "colab": {}
      },
      "source": [
        "def samplemat(dims):\n",
        "    \"\"\"Make a matrix with all zeros and increasing elements on the diagonal\"\"\"\n",
        "    aa = np.zeros(dims)\n",
        "    for i in range(min(dims)):\n",
        "        aa[i, i] = i\n",
        "    return aa\n",
        "\n",
        "\n",
        "# Display matrix\n",
        "plt.matshow(samplemat((15, 15)))\n",
        "\n",
        "plt.show()"
      ],
      "execution_count": 0,
      "outputs": []
    },
    {
      "cell_type": "markdown",
      "metadata": {
        "id": "9TPlqWgVyBIA",
        "colab_type": "text"
      },
      "source": [
        "### Векторные поля, линии тока."
      ]
    },
    {
      "cell_type": "code",
      "metadata": {
        "id": "gsVuvf5pyBIA",
        "colab_type": "code",
        "colab": {}
      },
      "source": [
        "w = 3\n",
        "Y, X = np.mgrid[-w:w:100j, -w:w:100j]\n",
        "U = -1 - X**2 + Y\n",
        "V = 1 + X - Y**2\n",
        "speed = np.sqrt(U**2 + V**2)\n",
        "\n",
        "fig = plt.figure(figsize=(7, 9))\n",
        "gs = gridspec.GridSpec(nrows=3, ncols=2, height_ratios=[1, 1, 2])\n",
        "\n",
        "#  Varying density along a streamline\n",
        "ax0 = fig.add_subplot(gs[0, 0])\n",
        "ax0.streamplot(X, Y, U, V, density=[0.5, 1])\n",
        "ax0.set_title('Varying Density')\n",
        "\n",
        "# Varying color along a streamline\n",
        "ax1 = fig.add_subplot(gs[0, 1])\n",
        "strm = ax1.streamplot(X, Y, U, V, color=U, linewidth=2, cmap='autumn')\n",
        "fig.colorbar(strm.lines)\n",
        "ax1.set_title('Varying Color')\n",
        "\n",
        "#  Varying line width along a streamline\n",
        "ax2 = fig.add_subplot(gs[1, 0])\n",
        "lw = 5*speed / speed.max()\n",
        "ax2.streamplot(X, Y, U, V, density=0.6, color='k', linewidth=lw)\n",
        "ax2.set_title('Varying Line Width')\n",
        "\n",
        "# Controlling the starting points of the streamlines\n",
        "seed_points = np.array([[-2, -1, 0, 1, 2, -1], [-2, -1,  0, 1, 2, 2]])\n",
        "\n",
        "ax3 = fig.add_subplot(gs[1, 1])\n",
        "strm = ax3.streamplot(X, Y, U, V, color=U, linewidth=2,\n",
        "                     cmap='autumn', start_points=seed_points.T)\n",
        "fig.colorbar(strm.lines)\n",
        "ax3.set_title('Controlling Starting Points')\n",
        "\n",
        "# Displaying the starting points with blue symbols.\n",
        "ax3.plot(seed_points[0], seed_points[1], 'bo')\n",
        "ax3.set(xlim=(-w, w), ylim=(-w, w))\n",
        "\n",
        "# Create a mask\n",
        "mask = np.zeros(U.shape, dtype=bool)\n",
        "mask[40:60, 40:60] = True\n",
        "U[:20, :20] = np.nan\n",
        "U = np.ma.array(U, mask=mask)\n",
        "\n",
        "ax4 = fig.add_subplot(gs[2:, :])\n",
        "ax4.streamplot(X, Y, U, V, color='r')\n",
        "ax4.set_title('Streamplot with Masking')\n",
        "\n",
        "ax4.imshow(~mask, extent=(-w, w, -w, w), alpha=0.5,\n",
        "          interpolation='nearest', cmap='gray', aspect='auto')\n",
        "ax4.set_aspect('equal')\n",
        "\n",
        "plt.tight_layout()\n",
        "plt.show()"
      ],
      "execution_count": 0,
      "outputs": []
    },
    {
      "cell_type": "markdown",
      "metadata": {
        "id": "wS76xY92yBIC",
        "colab_type": "text"
      },
      "source": [
        "### Заливка"
      ]
    },
    {
      "cell_type": "code",
      "metadata": {
        "id": "i_oY6tsIyBID",
        "colab_type": "code",
        "colab": {}
      },
      "source": [
        "def koch_snowflake(order, scale=10):\n",
        "    \"\"\"\n",
        "    Return two lists x, y of point coordinates of the Koch snowflake.\n",
        "\n",
        "    Arguments\n",
        "    ---------\n",
        "    order : int\n",
        "        The recursion depth.\n",
        "    scale : float\n",
        "        The extent of the snowflake (edge length of the base triangle).\n",
        "    \"\"\"\n",
        "    def _koch_snowflake_complex(order):\n",
        "        if order == 0:\n",
        "            # initial triangle\n",
        "            angles = np.array([0, 120, 240]) + 90\n",
        "            return scale / np.sqrt(3) * np.exp(np.deg2rad(angles) * 1j)\n",
        "        else:\n",
        "            ZR = 0.5 - 0.5j * np.sqrt(3) / 3\n",
        "\n",
        "            p1 = _koch_snowflake_complex(order - 1)  # start points\n",
        "            p2 = np.roll(p1, shift=-1)  # end points\n",
        "            dp = p2 - p1  # connection vectors\n",
        "\n",
        "            new_points = np.empty(len(p1) * 4, dtype=np.complex128)\n",
        "            new_points[::4] = p1\n",
        "            new_points[1::4] = p1 + dp / 3\n",
        "            new_points[2::4] = p1 + dp * ZR\n",
        "            new_points[3::4] = p1 + dp / 3 * 2\n",
        "            return new_points\n",
        "\n",
        "    points = _koch_snowflake_complex(order)\n",
        "    x, y = points.real, points.imag\n",
        "    return x, y\n",
        "\n",
        "x, y = koch_snowflake(order=5)\n",
        "\n",
        "plt.figure(figsize=(8, 8))\n",
        "plt.axis('equal')\n",
        "plt.fill(x, y)\n",
        "plt.show()"
      ],
      "execution_count": 0,
      "outputs": []
    },
    {
      "cell_type": "markdown",
      "metadata": {
        "id": "Y2YsUhDCyBIF",
        "colab_type": "text"
      },
      "source": [
        "### Диаграммы"
      ]
    },
    {
      "cell_type": "code",
      "metadata": {
        "id": "IVtIcipgyBIG",
        "colab_type": "code",
        "colab": {}
      },
      "source": [
        "# Fixing random state for reproducibility\n",
        "np.random.seed(19680801)\n",
        "\n",
        "\n",
        "plt.rcdefaults()\n",
        "fig, ax = plt.subplots()\n",
        "\n",
        "# Example data\n",
        "people = ('Tom', 'Dick', 'Harry', 'Slim', 'Jim')\n",
        "y_pos = np.arange(len(people))\n",
        "performance = 3 + 10 * np.random.rand(len(people))\n",
        "error = np.random.rand(len(people))\n",
        "\n",
        "ax.barh(y_pos, performance, xerr=error, align='center')\n",
        "ax.set_yticks(y_pos)\n",
        "ax.set_yticklabels(people)\n",
        "ax.invert_yaxis()  # labels read top-to-bottom\n",
        "ax.set_xlabel('Performance')\n",
        "ax.set_title('How fast do you want to go today?')\n",
        "\n",
        "plt.show()"
      ],
      "execution_count": 0,
      "outputs": []
    },
    {
      "cell_type": "code",
      "metadata": {
        "id": "UcfMDAqPyBII",
        "colab_type": "code",
        "colab": {}
      },
      "source": [
        "N = 5\n",
        "menMeans = (20, 35, 30, 35, 27)\n",
        "womenMeans = (25, 32, 34, 20, 25)\n",
        "menStd = (2, 3, 4, 1, 2)\n",
        "womenStd = (3, 5, 2, 3, 3)\n",
        "ind = np.arange(N)    # the x locations for the groups\n",
        "width = 0.35       # the width of the bars: can also be len(x) sequence\n",
        "\n",
        "p1 = plt.bar(ind, menMeans, width, yerr=menStd)\n",
        "p2 = plt.bar(ind, womenMeans, width,\n",
        "             bottom=menMeans, yerr=womenStd)\n",
        "\n",
        "plt.ylabel('Scores')\n",
        "plt.title('Scores by group and gender')\n",
        "plt.xticks(ind, ('G1', 'G2', 'G3', 'G4', 'G5'))\n",
        "plt.yticks(np.arange(0, 81, 10))\n",
        "plt.legend((p1[0], p2[0]), ('Men', 'Women'))\n",
        "\n",
        "plt.show()"
      ],
      "execution_count": 0,
      "outputs": []
    },
    {
      "cell_type": "code",
      "metadata": {
        "id": "iiRwj8PlyBIL",
        "colab_type": "code",
        "colab": {}
      },
      "source": [
        "labels = ['G1', 'G2', 'G3', 'G4', 'G5']\n",
        "men_means = [20, 34, 30, 35, 27]\n",
        "women_means = [25, 32, 34, 20, 25]\n",
        "\n",
        "x = np.arange(len(labels))  # the label locations\n",
        "width = 0.35  # the width of the bars\n",
        "\n",
        "fig, ax = plt.subplots()\n",
        "rects1 = ax.bar(x - width/2, men_means, width, label='Men')\n",
        "rects2 = ax.bar(x + width/2, women_means, width, label='Women')\n",
        "\n",
        "# Add some text for labels, title and custom x-axis tick labels, etc.\n",
        "ax.set_ylabel('Scores')\n",
        "ax.set_title('Scores by group and gender')\n",
        "ax.set_xticks(x)\n",
        "ax.set_xticklabels(labels)\n",
        "ax.legend()\n",
        "\n",
        "\n",
        "def autolabel(rects):\n",
        "    \"\"\"Attach a text label above each bar in *rects*, displaying its height.\"\"\"\n",
        "    for rect in rects:\n",
        "        height = rect.get_height()\n",
        "        ax.annotate('{}'.format(height),\n",
        "                    xy=(rect.get_x() + rect.get_width() / 2, height),\n",
        "                    xytext=(0, 3),  # 3 points vertical offset\n",
        "                    textcoords=\"offset points\",\n",
        "                    ha='center', va='bottom')\n",
        "\n",
        "\n",
        "autolabel(rects1)\n",
        "autolabel(rects2)\n",
        "\n",
        "fig.tight_layout()\n",
        "\n",
        "plt.show()"
      ],
      "execution_count": 0,
      "outputs": []
    },
    {
      "cell_type": "code",
      "metadata": {
        "id": "1yA4Mh63yBIN",
        "colab_type": "code",
        "colab": {}
      },
      "source": [
        "# Pie chart, where the slices will be ordered and plotted counter-clockwise:\n",
        "labels = 'Frogs', 'Hogs', 'Dogs', 'Logs'\n",
        "sizes = [15, 30, 45, 10]\n",
        "explode = (0, 0.1, 0, 0)  # only \"explode\" the 2nd slice (i.e. 'Hogs')\n",
        "\n",
        "fig1, ax1 = plt.subplots()\n",
        "ax1.pie(sizes, explode=explode, labels=labels, autopct='%1.1f%%',\n",
        "        shadow=True, startangle=90)\n",
        "ax1.axis('equal')  # Equal aspect ratio ensures that pie is drawn as a circle.\n",
        "\n",
        "plt.show()"
      ],
      "execution_count": 0,
      "outputs": []
    },
    {
      "cell_type": "markdown",
      "metadata": {
        "id": "29e4aaRUyBIP",
        "colab_type": "text"
      },
      "source": [
        "### Трехмерные графики"
      ]
    },
    {
      "cell_type": "code",
      "metadata": {
        "id": "vCyB4eCEyBIQ",
        "colab_type": "code",
        "colab": {}
      },
      "source": [
        "plt.rcParams['legend.fontsize'] = 10\n",
        "\n",
        "fig = plt.figure()\n",
        "ax = fig.gca(projection='3d')\n",
        "\n",
        "# Prepare arrays x, y, z\n",
        "theta = np.linspace(-4 * np.pi, 4 * np.pi, 100)\n",
        "z = np.linspace(-2, 2, 100)\n",
        "r = z**2 + 1\n",
        "x = r * np.sin(theta)\n",
        "y = r * np.cos(theta)\n",
        "\n",
        "ax.plot(x, y, z, label='parametric curve')\n",
        "ax.legend()\n",
        "\n",
        "plt.show()"
      ],
      "execution_count": 0,
      "outputs": []
    },
    {
      "cell_type": "code",
      "metadata": {
        "id": "QxDSLDKlyBIS",
        "colab_type": "code",
        "colab": {}
      },
      "source": [
        "def lorenz(x, y, z, s=10, r=28, b=2.667):\n",
        "    '''\n",
        "    Given:\n",
        "       x, y, z: a point of interest in three dimensional space\n",
        "       s, r, b: parameters defining the lorenz attractor\n",
        "    Returns:\n",
        "       x_dot, y_dot, z_dot: values of the lorenz attractor's partial\n",
        "           derivatives at the point x, y, z\n",
        "    '''\n",
        "    x_dot = s*(y - x)\n",
        "    y_dot = r*x - y - x*z\n",
        "    z_dot = x*y - b*z\n",
        "    return x_dot, y_dot, z_dot\n",
        "\n",
        "\n",
        "dt = 0.01\n",
        "num_steps = 10000\n",
        "\n",
        "# Need one more for the initial values\n",
        "xs = np.empty(num_steps + 1)\n",
        "ys = np.empty(num_steps + 1)\n",
        "zs = np.empty(num_steps + 1)\n",
        "\n",
        "# Set initial values\n",
        "xs[0], ys[0], zs[0] = (0., 1., 1.05)\n",
        "\n",
        "# Step through \"time\", calculating the partial derivatives at the current point\n",
        "# and using them to estimate the next point\n",
        "for i in range(num_steps):\n",
        "    x_dot, y_dot, z_dot = lorenz(xs[i], ys[i], zs[i])\n",
        "    xs[i + 1] = xs[i] + (x_dot * dt)\n",
        "    ys[i + 1] = ys[i] + (y_dot * dt)\n",
        "    zs[i + 1] = zs[i] + (z_dot * dt)\n",
        "\n",
        "\n",
        "# Plot\n",
        "fig = plt.figure()\n",
        "ax = fig.gca(projection='3d')\n",
        "\n",
        "ax.plot(xs, ys, zs, lw=0.5)\n",
        "ax.set_xlabel(\"X Axis\")\n",
        "ax.set_ylabel(\"Y Axis\")\n",
        "ax.set_zlabel(\"Z Axis\")\n",
        "ax.set_title(\"Lorenz Attractor\")\n",
        "\n",
        "plt.show()"
      ],
      "execution_count": 0,
      "outputs": []
    },
    {
      "cell_type": "code",
      "metadata": {
        "id": "N1XoWqtLyBIV",
        "colab_type": "code",
        "colab": {}
      },
      "source": [
        "fig = plt.figure()\n",
        "ax = fig.add_subplot(111, projection='3d')\n",
        "\n",
        "# Grab some test data.\n",
        "X, Y, Z = axes3d.get_test_data(0.05)\n",
        "\n",
        "# Plot a basic wireframe.\n",
        "ax.plot_wireframe(X, Y, Z, rstride=10, cstride=10)\n",
        "\n",
        "plt.show()"
      ],
      "execution_count": 0,
      "outputs": []
    },
    {
      "cell_type": "code",
      "metadata": {
        "id": "glVyGUwryBIY",
        "colab_type": "code",
        "colab": {}
      },
      "source": [
        "fig = plt.figure()\n",
        "ax = fig.gca(projection='3d')\n",
        "\n",
        "# Make data.\n",
        "X = np.arange(-5, 5, 0.25)\n",
        "xlen = len(X)\n",
        "Y = np.arange(-5, 5, 0.25)\n",
        "ylen = len(Y)\n",
        "X, Y = np.meshgrid(X, Y)\n",
        "R = np.sqrt(X**2 + Y**2)\n",
        "Z = np.sin(R)\n",
        "\n",
        "# Create an empty array of strings with the same shape as the meshgrid, and\n",
        "# populate it with two colors in a checkerboard pattern.\n",
        "colortuple = ('y', 'b')\n",
        "colors = np.empty(X.shape, dtype=str)\n",
        "for y in range(ylen):\n",
        "    for x in range(xlen):\n",
        "        colors[x, y] = colortuple[(x + y) % len(colortuple)]\n",
        "\n",
        "# Plot the surface with face colors taken from the array we made.\n",
        "surf = ax.plot_surface(X, Y, Z, facecolors=colors, linewidth=0)\n",
        "\n",
        "# Customize the z axis.\n",
        "ax.set_zlim(-1, 1)\n",
        "ax.w_zaxis.set_major_locator(LinearLocator(6))\n",
        "\n",
        "plt.show()"
      ],
      "execution_count": 0,
      "outputs": []
    },
    {
      "cell_type": "markdown",
      "metadata": {
        "id": "njD5A6VeyBIa",
        "colab_type": "text"
      },
      "source": [
        "### Анимация"
      ]
    },
    {
      "cell_type": "code",
      "metadata": {
        "id": "TU0lxcXWyBIa",
        "colab_type": "code",
        "outputId": "8cc4e60f-c254-475c-bbec-0648064cd8d8",
        "colab": {
          "base_uri": "https://localhost:8080/",
          "height": 319
        }
      },
      "source": [
        "# Fixing random state for reproducibility\n",
        "np.random.seed(19680801)\n",
        "\n",
        "\n",
        "def Gen_RandLine(length, dims=2):\n",
        "    \"\"\"\n",
        "    Create a line using a random walk algorithm\n",
        "\n",
        "    length is the number of points for the line.\n",
        "    dims is the number of dimensions the line has.\n",
        "    \"\"\"\n",
        "    lineData = np.empty((dims, length))\n",
        "    lineData[:, 0] = np.random.rand(dims)\n",
        "    for index in range(1, length):\n",
        "        # scaling the random numbers by 0.1 so\n",
        "        # movement is small compared to position.\n",
        "        # subtraction by 0.5 is to change the range to [-0.5, 0.5]\n",
        "        # to allow a line to move backwards.\n",
        "        step = ((np.random.rand(dims) - 0.5) * 0.1)\n",
        "        lineData[:, index] = lineData[:, index - 1] + step\n",
        "\n",
        "    return lineData\n",
        "\n",
        "\n",
        "def update_lines(num, dataLines, lines):\n",
        "    for line, data in zip(lines, dataLines):\n",
        "        # NOTE: there is no .set_data() for 3 dim data...\n",
        "        line.set_data(data[0:2, :num])\n",
        "        line.set_3d_properties(data[2, :num])\n",
        "    return lines\n",
        "\n",
        "# Attaching 3D axis to the figure\n",
        "fig = plt.figure()\n",
        "ax = axes3d.Axes3D(fig)\n",
        "\n",
        "# Fifty lines of random 3-D lines\n",
        "data = [Gen_RandLine(25, 3) for index in range(50)]\n",
        "\n",
        "# Creating fifty line objects.\n",
        "# NOTE: Can't pass empty arrays into 3d version of plot()\n",
        "lines = [ax.plot(dat[0, 0:1], dat[1, 0:1], dat[2, 0:1])[0] for dat in data]\n",
        "\n",
        "# Setting the axes properties\n",
        "ax.set_xlim3d([0.0, 1.0])\n",
        "ax.set_xlabel('X')\n",
        "\n",
        "ax.set_ylim3d([0.0, 1.0])\n",
        "ax.set_ylabel('Y')\n",
        "\n",
        "ax.set_zlim3d([0.0, 1.0])\n",
        "ax.set_zlabel('Z')\n",
        "\n",
        "ax.set_title('3D Test')\n",
        "\n",
        "# Creating the Animation object\n",
        "line_ani = animation.FuncAnimation(fig, update_lines, 25, fargs=(data, lines),\n",
        "                                   interval=50, blit=False)\n",
        "\n",
        "plt.show()"
      ],
      "execution_count": 0,
      "outputs": [
        {
          "output_type": "display_data",
          "data": {
            "image/png": "[encoded data removed]",
            "text/plain": [
              "<Figure size 432x288 with 1 Axes>"
            ]
          },
          "metadata": {
            "tags": [],
            "needs_background": "light"
          }
        }
      ]
    },
    {
      "cell_type": "code",
      "metadata": {
        "id": "d5r-wp0fyBIc",
        "colab_type": "code",
        "outputId": "f32a09da-2642-49f1-a450-8572b63146cd",
        "colab": {
          "base_uri": "https://localhost:8080/",
          "height": 265
        }
      },
      "source": [
        "fig, ax = plt.subplots()\n",
        "\n",
        "x = np.arange(0, 2*np.pi, 0.01)\n",
        "line, = ax.plot(x, np.sin(x))\n",
        "\n",
        "\n",
        "def init():  # only required for blitting to give a clean slate.\n",
        "    line.set_ydata([np.nan] * len(x))\n",
        "    return line,\n",
        "\n",
        "\n",
        "def animate(i):\n",
        "    line.set_ydata(np.sin(x + i / 100))  # update the data.\n",
        "    return line,\n",
        "\n",
        "\n",
        "ani = animation.FuncAnimation(\n",
        "    fig, animate, init_func=init, interval=2, blit=True, save_count=50)\n",
        "\n",
        "# To save the animation, use e.g.\n",
        "#\n",
        "# ani.save(\"movie.mp4\")\n",
        "#\n",
        "# or\n",
        "#\n",
        "# from matplotlib.animation import FFMpegWriter\n",
        "# writer = FFMpegWriter(fps=15, metadata=dict(artist='Me'), bitrate=1800)\n",
        "# ani.save(\"movie.mp4\", writer=writer)\n",
        "\n",
        "plt.show()"
      ],
      "execution_count": 0,
      "outputs": [
        {
          "output_type": "display_data",
          "data": {
            "image/png": "[encoded data removed]",
            "text/plain": [
              "<Figure size 432x288 with 1 Axes>"
            ]
          },
          "metadata": {
            "tags": [],
            "needs_background": "light"
          }
        }
      ]
    },
    {
      "cell_type": "markdown",
      "metadata": {
        "id": "l-I91GP_yBIe",
        "colab_type": "text"
      },
      "source": [
        "### График рассеяния"
      ]
    },
    {
      "cell_type": "code",
      "metadata": {
        "id": "73LBhwpDyBIf",
        "colab_type": "code",
        "colab": {}
      },
      "source": [
        "# Fixing random state for reproducibility\n",
        "np.random.seed(19680801)\n",
        "\n",
        "# the random data\n",
        "x = np.random.randn(1000)\n",
        "y = np.random.randn(1000)\n",
        "\n",
        "# definitions for the axes\n",
        "left, width = 0.1, 0.65\n",
        "bottom, height = 0.1, 0.65\n",
        "spacing = 0.005\n",
        "\n",
        "\n",
        "rect_scatter = [left, bottom, width, height]\n",
        "rect_histx = [left, bottom + height + spacing, width, 0.2]\n",
        "rect_histy = [left + width + spacing, bottom, 0.2, height]\n",
        "\n",
        "# start with a rectangular Figure\n",
        "plt.figure(figsize=(8, 8))\n",
        "\n",
        "ax_scatter = plt.axes(rect_scatter)\n",
        "ax_scatter.tick_params(direction='in', top=True, right=True)\n",
        "ax_histx = plt.axes(rect_histx)\n",
        "ax_histx.tick_params(direction='in', labelbottom=False)\n",
        "ax_histy = plt.axes(rect_histy)\n",
        "ax_histy.tick_params(direction='in', labelleft=False)\n",
        "\n",
        "# the scatter plot:\n",
        "ax_scatter.scatter(x, y)\n",
        "\n",
        "# now determine nice limits by hand:\n",
        "binwidth = 0.25\n",
        "lim = np.ceil(np.abs([x, y]).max() / binwidth) * binwidth\n",
        "ax_scatter.set_xlim((-lim, lim))\n",
        "ax_scatter.set_ylim((-lim, lim))\n",
        "\n",
        "bins = np.arange(-lim, lim + binwidth, binwidth)\n",
        "ax_histx.hist(x, bins=bins)\n",
        "ax_histy.hist(y, bins=bins, orientation='horizontal')\n",
        "\n",
        "ax_histx.set_xlim(ax_scatter.get_xlim())\n",
        "ax_histy.set_ylim(ax_scatter.get_ylim())\n",
        "\n",
        "plt.show()"
      ],
      "execution_count": 0,
      "outputs": []
    },
    {
      "cell_type": "markdown",
      "metadata": {
        "id": "BPVs3FvlyBIh",
        "colab_type": "text"
      },
      "source": [
        "### Список источников\n",
        "- https://matplotlib.org/tutorials/index.html#introductory\n",
        "- https://matplotlib.org/tutorials/introductory/sample_plots.html#sphx-glr-tutorials-introductory-sample-plots-py\n",
        "- https://matplotlib.org/gallery/index.html\n",
        "- https://habr.com/ru/post/468295/"
      ]
    }
  ]
}